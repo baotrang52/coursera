{
 "cells": [
  {
   "cell_type": "markdown",
   "id": "2b2a7634",
   "metadata": {},
   "source": [
    "# Data Science Tools and Ecosystem"
   ]
  },
  {
   "attachments": {},
   "cell_type": "markdown",
   "id": "2b4e2bf3",
   "metadata": {},
   "source": [
    "In this notebook, Data Science Tools and Ecosystem are summarized "
   ]
  },
  {
   "cell_type": "markdown",
   "id": "69c95f23",
   "metadata": {},
   "source": [
    "Some of the popular languages that Data Scientists use are: \n",
    "\n",
    "1. Python\n",
    "2. Rstudio \n",
    "3. Java\n",
    "4. SQL\n",
    "5. Scala"
   ]
  },
  {
   "attachments": {},
   "cell_type": "markdown",
   "id": "73732178",
   "metadata": {},
   "source": [
    "Some of the commonly used libraries used by Data Scientists include: \n",
    "\n",
    "1. pandas\n",
    "2. numpy \n",
    "3. scikit learn\n",
    "4. keras\n",
    "5. Matplotlib"
   ]
  },
  {
   "cell_type": "markdown",
   "id": "f54c1881",
   "metadata": {},
   "source": [
    "| Data Science Tools |\n",
    "|---|\n",
    "| Apache Spark |\n",
    "| Rstudio |\n",
    "| Apache Hadoop |"
   ]
  },
  {
   "cell_type": "markdown",
   "id": "43dadc56",
   "metadata": {},
   "source": [
    "### Below are a few examples of evaluating arithmetic expressions in Python: \n",
    "\n",
    "| Operator | Example | Result |\n",
    "|---|---|---| \n",
    "| + | a+b | Sum of a and b |\n",
    "| - | a-b | b subtracted from a |\n",
    "| * | a * b | Product of a and b |\n",
    "| / | a / b | Quotient when a is divided by b|\n",
    "\n"
   ]
  },
  {
   "cell_type": "code",
   "execution_count": 1,
   "id": "9f6d23fe",
   "metadata": {},
   "outputs": [
    {
     "data": {
      "text/plain": [
       "17"
      ]
     },
     "execution_count": 1,
     "metadata": {},
     "output_type": "execute_result"
    }
   ],
   "source": [
    "(3*4)+5"
   ]
  },
  {
   "cell_type": "code",
   "execution_count": 3,
   "id": "62b2859a",
   "metadata": {},
   "outputs": [
    {
     "data": {
      "text/plain": [
       "3.3333333333333335"
      ]
     },
     "execution_count": 3,
     "metadata": {},
     "output_type": "execute_result"
    }
   ],
   "source": [
    "200/60\n",
    "#This will convert 200 minutes to hours by dividing by 60"
   ]
  },
  {
   "cell_type": "markdown",
   "id": "787ab857",
   "metadata": {},
   "source": [
    "**Objectives:**\n",
    "- The notebook tells us about the programs data scientists often use\n",
    "- The notebook tells us about the library scientists often use\n",
    "- The notebook tells us how arithmetic expression in Python"
   ]
  },
  {
   "cell_type": "markdown",
   "id": "bfcca987",
   "metadata": {},
   "source": []
  },
  {
   "cell_type": "markdown",
   "id": "b71503f4",
   "metadata": {},
   "source": [
    "## Author: \n",
    "\n",
    "Nguyen Bao Quynh Trang"
   ]
  },
  {
   "cell_type": "code",
   "execution_count": null,
   "id": "cd7a59f0",
   "metadata": {},
   "outputs": [],
   "source": []
  }
 ],
 "metadata": {
  "kernelspec": {
   "display_name": "Python 3 (ipykernel)",
   "language": "python",
   "name": "python3"
  },
  "language_info": {
   "codemirror_mode": {
    "name": "ipython",
    "version": 3
   },
   "file_extension": ".py",
   "mimetype": "text/x-python",
   "name": "python",
   "nbconvert_exporter": "python",
   "pygments_lexer": "ipython3",
   "version": "3.9.13"
  }
 },
 "nbformat": 4,
 "nbformat_minor": 5
}
